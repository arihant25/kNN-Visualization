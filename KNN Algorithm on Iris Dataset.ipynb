{
 "cells": [
  {
   "cell_type": "code",
   "execution_count": 1,
   "metadata": {
    "collapsed": false
   },
   "outputs": [],
   "source": [
    "%matplotlib inline\n",
    "\n",
    "import pandas as pd\n",
    "import numpy as np\n",
    "import math\n",
    "import operator\n",
    "import matplotlib.pyplot as plt\n",
    "from sklearn.cross_validation import train_test_split\n",
    "\n",
    "# Main File for kNN (k Nearest Neighbors) Algorithm\n",
    "# From http://machinelearningmastery.com/tutorial-to-implement-k-nearest-neighbors-in-python-from-scratch/\n",
    "\n",
    "# Idea is to do kNN on the cars dataset\n",
    "\n",
    "# Handle Data:  Open the dataset from CSV and split into test/train datasets.\n",
    "# Similarity:   Calculate the distance between two data instances.\n",
    "# Neighbors:    Locate k most similar data instances.\n",
    "# Response:     Generate a response from a set of data instances.\n",
    "# Accuracy:     Summarize the accuracy of predictions.\n",
    "# Main:         Tie it all together."
   ]
  },
  {
   "cell_type": "code",
   "execution_count": 2,
   "metadata": {
    "collapsed": true
   },
   "outputs": [],
   "source": [
    "def load_data(filename, test_size=0.33):\n",
    "    data = pd.read_csv(filename, header=None, names=['c1', 'c2', 'c3', 'c4', 'class'])\n",
    "    train, test = train_test_split(data, test_size=test_size)\n",
    "    train = train.sort_index(ascending=True)\n",
    "    test = test.sort_index(ascending=True)\n",
    "    return train, test"
   ]
  },
  {
   "cell_type": "code",
   "execution_count": 3,
   "metadata": {
    "collapsed": true
   },
   "outputs": [],
   "source": [
    "def euclidean_distance(element1, element2, factors):\n",
    "    ssd = 0\n",
    "    for i in factors:\n",
    "        ssd += (element1[i] - element2[i])**2\n",
    "    e_dist = math.sqrt(ssd)\n",
    "    return e_dist    "
   ]
  },
  {
   "cell_type": "code",
   "execution_count": 4,
   "metadata": {
    "collapsed": true
   },
   "outputs": [],
   "source": [
    "def get_neighbors(training_set, test_element, k, factors):\n",
    "    distances = {}\n",
    "    for i, r in training_set.iterrows():\n",
    "        distances[i] = (euclidean_distance(r, test_element, factors))\n",
    "    sorted_distances = sorted(distances.items(), key=operator.itemgetter(1))\n",
    "\n",
    "    index_list = []\n",
    "    for i in range(k):\n",
    "        index_list.append(sorted_distances[i][0])\n",
    "    furthest_distance = sorted_distances[k][1]\n",
    "    neighbors = training_set.loc[index_list]\n",
    "    return neighbors, furthest_distance"
   ]
  },
  {
   "cell_type": "code",
   "execution_count": 5,
   "metadata": {
    "collapsed": true
   },
   "outputs": [],
   "source": [
    "def get_response(neighbors):\n",
    "    tally = neighbors['class'].value_counts()\n",
    "    return tally.index.values[0]"
   ]
  },
  {
   "cell_type": "code",
   "execution_count": 6,
   "metadata": {
    "collapsed": true
   },
   "outputs": [],
   "source": [
    "def get_accuracy(pred, test):\n",
    "    correct = 0.0\n",
    "    for key in pred:\n",
    "        if pred[key] == test['class'].loc[key]:\n",
    "            correct += 1\n",
    "    return correct/len(test)"
   ]
  },
  {
   "cell_type": "code",
   "execution_count": 7,
   "metadata": {
    "collapsed": false
   },
   "outputs": [],
   "source": [
    "def main(file, k, factors=[], test_size=0.33):\n",
    "    train_set, test_set = load_data(filename=file, test_size=test_size)\n",
    "    ####\n",
    "    # Combine elements to condense factors from 4 -> 2 and allow 2 dimensional visualization\n",
    "    train_set['x'] = train_set['c1'] + train_set['c2']\n",
    "    train_set['y'] = train_set['c3'] + train_set['c4']\n",
    "    test_set['x'] = test_set['c1'] + test_set['c2']\n",
    "    test_set['y'] = test_set['c3'] + test_set['c4']\n",
    "    ####\n",
    "    predictions = {}\n",
    "    for i, r in test_set.iterrows():\n",
    "        current_neighbors, furthest_distance = get_neighbors(train_set, r, k, factors)\n",
    "        current_response = get_response(current_neighbors)\n",
    "        predictions[i] = current_response\n",
    "    return get_accuracy(predictions, test_set)"
   ]
  },
  {
   "cell_type": "code",
   "execution_count": 8,
   "metadata": {
    "collapsed": false,
    "scrolled": true
   },
   "outputs": [],
   "source": [
    "def test_suite():\n",
    "    acc_list = []\n",
    "    min_k = 10\n",
    "    max_k = 10\n",
    "    tests_per_k = 100\n",
    "    for k in range(min_k, max_k + 1):\n",
    "        test_list = []\n",
    "        for test in range(tests_per_k):\n",
    "            test_list.append(main('iris.data.csv', k, ['c3', 'c4'], 0.33))\n",
    "            print('K:' + str(k) + '  Test:' + str(test) + '  Acc:' + str(test_list[-1]*100) + '%')\n",
    "        acc_list.append(np.mean(test_list))\n",
    "        print('K:', k, ' Avg:', acc_list[-1])\n",
    "    fig = plt.gcf()\n",
    "    ax = plt.gca()\n",
    "    ax.set_xlim((0, tests_per_k + 1))\n",
    "    ax.set_ylim((0.80, 1.0))\n",
    "    #plt.plot(range(min_k, max_k + 1), acc_list)\n",
    "    plt.plot(range(1, tests_per_k + 1), test_list)\n",
    "    plt.plot(range(0, tests_per_k + 1), [acc_list[0] for i in range(tests_per_k + 1)])\n",
    "    plt.show()\n"
   ]
  },
  {
   "cell_type": "code",
   "execution_count": 39,
   "metadata": {
    "collapsed": false
   },
   "outputs": [],
   "source": [
    "def visual_main(file, k, factors, test_size=0.33):\n",
    "    train_set, test_set = load_data(filename=file, test_size=test_size)\n",
    "    ####\n",
    "    # Combine elements to condense factors from 4 -> 2 and allow 2 dimensional visualization\n",
    "    train_set['x'] = train_set['c1'] + train_set['c2']\n",
    "    train_set['y'] = train_set['c3'] + train_set['c4']\n",
    "    test_set['x'] = test_set['c1'] + test_set['c2']\n",
    "    test_set['y'] = test_set['c3'] + test_set['c4']\n",
    "    ####\n",
    "\n",
    "    virg_train_set = train_set[train_set['class'] == 'Iris-virginica']\n",
    "    seto_train_set = train_set[train_set['class'] == 'Iris-setosa']\n",
    "    vers_train_set = train_set[train_set['class'] == 'Iris-versicolor']\n",
    "\n",
    "    fig = plt.figure(figsize=(10,7))\n",
    "    fig.suptitle('Iris Data KNN with k = ' + str(k) + ' test size = ' + str(test_size) + '%', fontsize=20)\n",
    "    ax = plt.gca()\n",
    "    # max_val = math.ceil(max([max(train_set[0]+train_set[1]), max(train_set[2]+train_set[3])]))\n",
    "    # min_val = math.floor(min([min(train_set[0]+train_set[1]), min(train_set[2]+train_set[3])]))\n",
    "    ax.set_xlim((2, 16))\n",
    "    ax.set_ylim((1, 10))\n",
    "\n",
    "    colors = {'Iris-virginica': 'b', 'Iris-setosa': 'c', 'Iris-versicolor': 'y', 'correct': 'g', 'wrong': 'r'}\n",
    "    point_size = 150\n",
    "    ax.scatter(virg_train_set['x'], virg_train_set['y'], s=point_size, c=colors['Iris-virginica'])\n",
    "    ax.scatter(seto_train_set['x'], seto_train_set['y'], s=point_size, c=colors['Iris-setosa'])\n",
    "    ax.scatter(vers_train_set['x'], vers_train_set['y'], s=point_size, c=colors['Iris-versicolor'])\n",
    "    \n",
    "    predictions = {}\n",
    "    for i, r in test_set.iterrows():\n",
    "        current_neighbors, furthest_distance = get_neighbors(train_set, r, k, factors)\n",
    "        current_response = get_response(current_neighbors)\n",
    "        predictions[i] = current_response\n",
    "        #print(\"> predicted=\", repr(current_response), \"actual=\", repr(r[4]))\n",
    "        \n",
    "        if current_response == r['class']:\n",
    "            ax.scatter(r['x'], r['y'], s=point_size, c=colors['correct'], edgecolor=colors['correct'])\n",
    "            ax.scatter(r['x'], r['y'], s=point_size/3, c=colors[current_response], edgecolor=colors['correct'])\n",
    "            #Next two lines add distance circles for correct predictions\n",
    "            #circle = plt.Circle((r['x'], r['y']), furthest_distance, fill=False, edgecolor=colors['correct'])\n",
    "            #ax.add_artist(circle)\n",
    "        else:\n",
    "            ax.scatter(r['x'], r['y'], s=point_size, c=colors['wrong'], edgecolor=colors['wrong'])\n",
    "            ax.scatter(r['x'], r['y'], s=point_size/3, c=colors[current_response], edgecolor=colors[current_response])\n",
    "            #Next two lines add distance circles for incorrect predictions\n",
    "            circle = plt.Circle((r['x'], r['y']), furthest_distance, fill=False, edgecolor=colors['wrong'])\n",
    "            ax.add_artist(circle)\n",
    "        \n",
    "    print('Accuracy:',str(get_accuracy(predictions, test_set) * 100) + '%' )\n",
    "\n",
    "    plt.show()\n",
    "\n",
    "    #return get_accuracy(predictions, test_set)"
   ]
  },
  {
   "cell_type": "code",
   "execution_count": 40,
   "metadata": {
    "collapsed": false
   },
   "outputs": [
    {
     "name": "stdout",
     "output_type": "stream",
     "text": [
      "Accuracy: 96.0%\n"
     ]
    },
    {
     "data": {
      "image/png": "[encoded data removed]",
      "text/plain": [
       "<matplotlib.figure.Figure at 0x19ab52928d0>"
      ]
     },
     "metadata": {},
     "output_type": "display_data"
    }
   ],
   "source": [
    "visual_main('iris.data.csv', 5, ['c1','c2','c3','c4'], 0.33)"
   ]
  },
  {
   "cell_type": "code",
   "execution_count": 11,
   "metadata": {
    "collapsed": false
   },
   "outputs": [],
   "source": [
    "# Normalization of c1 - c4\n",
    "load_data('iris.data.csv')\n",
    "raw_data = pd.read_csv('iris.data.csv', header=None, names=['c1', 'c2', 'c3', 'c4', 'class'])\n"
   ]
  },
  {
   "cell_type": "markdown",
   "metadata": {},
   "source": [
    "From the wikipedia article on [**Feature Scaling**](https://en.wikipedia.org/wiki/Feature_scaling)\n",
    "\n",
    ">The simplest method is rescaling the range of features to scale the range in [0, 1] or [−1, 1]. Selecting the target range depends on the nature of the data. The general formula is given as:\n",
    "\n",
    ">$$x' = \\frac{x - \\text{min}(x)}{\\text{max}(x)-\\text{min}(x)}$$"
   ]
  },
  {
   "cell_type": "code",
   "execution_count": 12,
   "metadata": {
    "collapsed": false
   },
   "outputs": [
    {
     "data": {
      "text/html": [
       "<div>\n",
       "<table border=\"1\" class=\"dataframe\">\n",
       "  <thead>\n",
       "    <tr style=\"text-align: right;\">\n",
       "      <th></th>\n",
       "      <th>c1</th>\n",
       "      <th>c2</th>\n",
       "      <th>c3</th>\n",
       "      <th>c4</th>\n",
       "      <th>class</th>\n",
       "      <th>n1</th>\n",
       "      <th>n2</th>\n",
       "      <th>n3</th>\n",
       "      <th>n4</th>\n",
       "    </tr>\n",
       "  </thead>\n",
       "  <tbody>\n",
       "    <tr>\n",
       "      <th>0</th>\n",
       "      <td>5.1</td>\n",
       "      <td>3.5</td>\n",
       "      <td>1.4</td>\n",
       "      <td>0.2</td>\n",
       "      <td>Iris-setosa</td>\n",
       "      <td>0.222222</td>\n",
       "      <td>0.625000</td>\n",
       "      <td>0.067797</td>\n",
       "      <td>0.041667</td>\n",
       "    </tr>\n",
       "    <tr>\n",
       "      <th>1</th>\n",
       "      <td>4.9</td>\n",
       "      <td>3.0</td>\n",
       "      <td>1.4</td>\n",
       "      <td>0.2</td>\n",
       "      <td>Iris-setosa</td>\n",
       "      <td>0.166667</td>\n",
       "      <td>0.416667</td>\n",
       "      <td>0.067797</td>\n",
       "      <td>0.041667</td>\n",
       "    </tr>\n",
       "    <tr>\n",
       "      <th>2</th>\n",
       "      <td>4.7</td>\n",
       "      <td>3.2</td>\n",
       "      <td>1.3</td>\n",
       "      <td>0.2</td>\n",
       "      <td>Iris-setosa</td>\n",
       "      <td>0.111111</td>\n",
       "      <td>0.500000</td>\n",
       "      <td>0.050847</td>\n",
       "      <td>0.041667</td>\n",
       "    </tr>\n",
       "    <tr>\n",
       "      <th>3</th>\n",
       "      <td>4.6</td>\n",
       "      <td>3.1</td>\n",
       "      <td>1.5</td>\n",
       "      <td>0.2</td>\n",
       "      <td>Iris-setosa</td>\n",
       "      <td>0.083333</td>\n",
       "      <td>0.458333</td>\n",
       "      <td>0.084746</td>\n",
       "      <td>0.041667</td>\n",
       "    </tr>\n",
       "    <tr>\n",
       "      <th>4</th>\n",
       "      <td>5.0</td>\n",
       "      <td>3.6</td>\n",
       "      <td>1.4</td>\n",
       "      <td>0.2</td>\n",
       "      <td>Iris-setosa</td>\n",
       "      <td>0.194444</td>\n",
       "      <td>0.666667</td>\n",
       "      <td>0.067797</td>\n",
       "      <td>0.041667</td>\n",
       "    </tr>\n",
       "    <tr>\n",
       "      <th>5</th>\n",
       "      <td>5.4</td>\n",
       "      <td>3.9</td>\n",
       "      <td>1.7</td>\n",
       "      <td>0.4</td>\n",
       "      <td>Iris-setosa</td>\n",
       "      <td>0.305556</td>\n",
       "      <td>0.791667</td>\n",
       "      <td>0.118644</td>\n",
       "      <td>0.125000</td>\n",
       "    </tr>\n",
       "    <tr>\n",
       "      <th>6</th>\n",
       "      <td>4.6</td>\n",
       "      <td>3.4</td>\n",
       "      <td>1.4</td>\n",
       "      <td>0.3</td>\n",
       "      <td>Iris-setosa</td>\n",
       "      <td>0.083333</td>\n",
       "      <td>0.583333</td>\n",
       "      <td>0.067797</td>\n",
       "      <td>0.083333</td>\n",
       "    </tr>\n",
       "    <tr>\n",
       "      <th>7</th>\n",
       "      <td>5.0</td>\n",
       "      <td>3.4</td>\n",
       "      <td>1.5</td>\n",
       "      <td>0.2</td>\n",
       "      <td>Iris-setosa</td>\n",
       "      <td>0.194444</td>\n",
       "      <td>0.583333</td>\n",
       "      <td>0.084746</td>\n",
       "      <td>0.041667</td>\n",
       "    </tr>\n",
       "    <tr>\n",
       "      <th>8</th>\n",
       "      <td>4.4</td>\n",
       "      <td>2.9</td>\n",
       "      <td>1.4</td>\n",
       "      <td>0.2</td>\n",
       "      <td>Iris-setosa</td>\n",
       "      <td>0.027778</td>\n",
       "      <td>0.375000</td>\n",
       "      <td>0.067797</td>\n",
       "      <td>0.041667</td>\n",
       "    </tr>\n",
       "    <tr>\n",
       "      <th>9</th>\n",
       "      <td>4.9</td>\n",
       "      <td>3.1</td>\n",
       "      <td>1.5</td>\n",
       "      <td>0.1</td>\n",
       "      <td>Iris-setosa</td>\n",
       "      <td>0.166667</td>\n",
       "      <td>0.458333</td>\n",
       "      <td>0.084746</td>\n",
       "      <td>0.000000</td>\n",
       "    </tr>\n",
       "  </tbody>\n",
       "</table>\n",
       "</div>"
      ],
      "text/plain": [
       "    c1   c2   c3   c4        class        n1        n2        n3        n4\n",
       "0  5.1  3.5  1.4  0.2  Iris-setosa  0.222222  0.625000  0.067797  0.041667\n",
       "1  4.9  3.0  1.4  0.2  Iris-setosa  0.166667  0.416667  0.067797  0.041667\n",
       "2  4.7  3.2  1.3  0.2  Iris-setosa  0.111111  0.500000  0.050847  0.041667\n",
       "3  4.6  3.1  1.5  0.2  Iris-setosa  0.083333  0.458333  0.084746  0.041667\n",
       "4  5.0  3.6  1.4  0.2  Iris-setosa  0.194444  0.666667  0.067797  0.041667\n",
       "5  5.4  3.9  1.7  0.4  Iris-setosa  0.305556  0.791667  0.118644  0.125000\n",
       "6  4.6  3.4  1.4  0.3  Iris-setosa  0.083333  0.583333  0.067797  0.083333\n",
       "7  5.0  3.4  1.5  0.2  Iris-setosa  0.194444  0.583333  0.084746  0.041667\n",
       "8  4.4  2.9  1.4  0.2  Iris-setosa  0.027778  0.375000  0.067797  0.041667\n",
       "9  4.9  3.1  1.5  0.1  Iris-setosa  0.166667  0.458333  0.084746  0.000000"
      ]
     },
     "execution_count": 12,
     "metadata": {},
     "output_type": "execute_result"
    }
   ],
   "source": [
    "def normalize(vector):\n",
    "    minimum = min(vector)\n",
    "    maximum = max(vector)\n",
    "    standard_form = list(vector)\n",
    "    normalized_form = []\n",
    "    for value in standard_form:\n",
    "        normalized_form.append((value - minimum) / (maximum - minimum))\n",
    "    return normalized_form\n",
    "\n",
    "normalize(raw_data.c4)  \n",
    "\n",
    "raw_data['n1'] = normalize(raw_data.c1)\n",
    "raw_data['n2'] = normalize(raw_data.c2)\n",
    "raw_data['n3'] = normalize(raw_data.c3)\n",
    "raw_data['n4'] = normalize(raw_data.c4)\n",
    "raw_data.head(10)\n",
    "    "
   ]
  },
  {
   "cell_type": "code",
   "execution_count": null,
   "metadata": {
    "collapsed": true
   },
   "outputs": [],
   "source": []
  },
  {
   "cell_type": "code",
   "execution_count": null,
   "metadata": {
    "collapsed": true
   },
   "outputs": [],
   "source": []
  }
 ],
 "metadata": {
  "kernelspec": {
   "display_name": "Python 3",
   "language": "python",
   "name": "python3"
  },
  "language_info": {
   "codemirror_mode": {
    "name": "ipython",
    "version": 3
   },
   "file_extension": ".py",
   "mimetype": "text/x-python",
   "name": "python",
   "nbconvert_exporter": "python",
   "pygments_lexer": "ipython3",
   "version": "3.5.1"
  },
  "widgets": {
   "state": {},
   "version": "1.1.2"
  }
 },
 "nbformat": 4,
 "nbformat_minor": 0
}
